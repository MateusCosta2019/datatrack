{
 "cells": [
  {
   "cell_type": "code",
   "execution_count": 658,
   "metadata": {},
   "outputs": [],
   "source": [
    "import pandas as pd\n",
    "import facebook\n",
    "from datetime import datetime\n",
    "import json \n",
    "from functools import reduce"
   ]
  },
  {
   "cell_type": "code",
   "execution_count": 712,
   "metadata": {},
   "outputs": [],
   "source": [
    "params = dict()\n",
    "params['page_token'] = 'EAAUTdastuisBALJLE2TqfBRrfVNLZBZAThLLz3Pl3hrxfhDrEO1keFFTallF18M3lnaP4JbWvKs5pZBPDYDymMDdaK0ftAsHzziADQ8SPKMjGXA3Hi4VwGZAk3eD5ZCWHkopcChYaUs9kdldBQoKyGLWVVd4D4QUBTucoJJCyX6RcS2hnmUx6aMzwuHCfa3Ghgh27togqUiKBPqnSKj7N'        # not an actual access token\n",
    "params['page_id'] = '623594861616145' \n",
    "graph = facebook.GraphAPI(access_token=params['page_token'], version=\"3.1\")\n"
   ]
  },
  {
   "cell_type": "markdown",
   "metadata": {},
   "source": [
    "DADOS DE PAGE IMPRESSION ORGANIC"
   ]
  },
  {
   "cell_type": "code",
   "execution_count": null,
   "metadata": {},
   "outputs": [],
   "source": [
    "page_impressions = graph.get_connections(id=params['page_id'], connection_name='insights', \n",
    "                                        metric='page_impressions_organic',\n",
    "                                        date_preset='last_year',\n",
    "                                        show_description_from_api_doc=False)\n",
    "\n",
    "dados = page_impressions['data'][0]['values']\n",
    "df_organic = pd.DataFrame(dados)\n",
    "df_organic['end_time'] = pd.to_datetime(df_organic['end_time'], errors='coerce')\n",
    "df_organic['end_time'] = df_organic['end_time'].dt.strftime('%m-%d-%y')\n",
    "df_organic['end_time'] = pd.to_datetime(df_organic['end_time'])\n",
    "agraga_organic = df_organic.resample(rule='M', on='end_time').agg({'value':'sum'}).reset_index()\n",
    "\n",
    "\n",
    "agraga_organic['end_time'] = agraga_organic['end_time'].dt.strftime('%d-%m-%y')\n",
    "agraga_organic.rename({\"end_time\": \"data\", \"value\": \"page_impressions_organic\"}, axis=1, inplace=True)\n",
    "dados_finais = agraga_organic.to_dict(orient='records')\n"
   ]
  },
  {
   "cell_type": "code",
   "execution_count": null,
   "metadata": {},
   "outputs": [],
   "source": [
    "display(dados_finais)"
   ]
  },
  {
   "cell_type": "markdown",
   "metadata": {},
   "source": [
    "DADOS DE PAGE IMPRESSION PAID"
   ]
  },
  {
   "cell_type": "code",
   "execution_count": null,
   "metadata": {},
   "outputs": [],
   "source": [
    "page_impressions_paid = graph.get_connections(id=params['page_id'], connection_name='insights', \n",
    "                                        metric='page_impressions_paid',\n",
    "                                        date_preset='last_year',\n",
    "                                        show_description_from_api_doc=False)\n",
    "\n",
    "dados = page_impressions_paid['data'][0]['values']\n",
    "df_paid = pd.DataFrame(dados)\n",
    "df_paid['end_time'] = pd.to_datetime(df_paid['end_time'], errors='coerce')\n",
    "df_paid['end_time'] = df_paid['end_time'].dt.strftime('%m-%d-%y')\n",
    "df_paid['end_time'] = pd.to_datetime(df_paid['end_time'])\n",
    "agraga_paid = df_paid.resample(rule='M', on='end_time').agg({'value':'sum'}).reset_index()\n",
    "\n",
    "\n",
    "agraga_paid['end_time'] = agraga_paid['end_time'].dt.strftime('%d-%m-%y')\n",
    "agraga_paid.rename({\"end_time\": \"data\", \"value\": \"page_impressions_paid\"}, axis=1, inplace=True)"
   ]
  },
  {
   "cell_type": "markdown",
   "metadata": {},
   "source": [
    "DADOS DE PAGE IMPRESSION"
   ]
  },
  {
   "cell_type": "code",
   "execution_count": null,
   "metadata": {},
   "outputs": [],
   "source": [
    "page_impressions = graph.get_connections(id=params['page_id'], connection_name='insights', \n",
    "                                        metric='page_impressions',\n",
    "                                        date_preset='last_year',\n",
    "                                        show_description_from_api_doc=False)\n",
    "\n",
    "dados = page_impressions['data'][0]['values']\n",
    "df_impressions = pd.DataFrame(dados)\n",
    "df_impressions['end_time'] = pd.to_datetime(df_impressions['end_time'], errors='coerce')\n",
    "df_impressions['end_time'] = df_impressions['end_time'].dt.strftime('%m-%d-%y')\n",
    "df_impressions['end_time'] = pd.to_datetime(df_impressions['end_time'])\n",
    "agraga = df_impressions.resample(rule='M', on='end_time').agg({'value':'sum'}).reset_index()\n",
    "\n",
    "\n",
    "agraga['end_time'] = agraga['end_time'].dt.strftime('%d-%m-%y')\n",
    "agraga.rename({\"end_time\": \"data\", \"value\": \"page_impressions\"}, axis=1, inplace=True)"
   ]
  },
  {
   "cell_type": "markdown",
   "metadata": {},
   "source": [
    "AGREGAÇÃO DOS DADOS EM UM UNICO DF"
   ]
  },
  {
   "cell_type": "code",
   "execution_count": null,
   "metadata": {},
   "outputs": [],
   "source": [
    "df_princiapl = pd.merge(agraga, agraga_organic, how='inner', on='data')"
   ]
  },
  {
   "cell_type": "code",
   "execution_count": null,
   "metadata": {},
   "outputs": [],
   "source": [
    "merge = pd.merge(df_princiapl, agraga_paid, how='inner', on='data')"
   ]
  },
  {
   "cell_type": "markdown",
   "metadata": {},
   "source": [
    "ANALISE DE CLIQUES NAS PAGINAS"
   ]
  },
  {
   "cell_type": "code",
   "execution_count": null,
   "metadata": {},
   "outputs": [],
   "source": [
    "page_fans = graph.get_connections(id=params['page_id'], connection_name='insights', \n",
    "                                        metric='page_fans',\n",
    "                                        date_preset='last_30d',\n",
    "                                        show_description_from_api_doc=False)\n",
    "\n",
    "dados = page_fans['data'][0]['values']\n",
    "df_page_fans = pd.DataFrame(dados)\n",
    "df_page_fans['end_time'] = pd.to_datetime(df_page_fans['end_time'], errors='coerce')\n",
    "df_page_fans['end_time'] = df_page_fans['end_time'].dt.strftime('%m-%d-%y')\n",
    "df_page_fans['end_time'] = pd.to_datetime(df_page_fans['end_time'])\n",
    "# agrega_df_page_total_actions = df_page_total_actions.resample(rule='M', on='end_time').agg({'value':'sum'}).reset_index()\n",
    "\n",
    "\n",
    "df_page_fans['end_time'] = df_page_fans['end_time'].dt.strftime('%d-%m-%y')\n",
    "df_page_fans.rename({\"end_time\": \"x\", \"value\": \"y\"}, axis=1, inplace=True)\n",
    "dados_finais = df_page_fans.to_dict(orient='records')"
   ]
  },
  {
   "cell_type": "code",
   "execution_count": null,
   "metadata": {},
   "outputs": [],
   "source": [
    "display(dados_finais)"
   ]
  },
  {
   "cell_type": "markdown",
   "metadata": {},
   "source": [
    "ANALISE DAS METRICAS TABELA"
   ]
  },
  {
   "cell_type": "code",
   "execution_count": null,
   "metadata": {},
   "outputs": [],
   "source": [
    "Dados = []"
   ]
  },
  {
   "cell_type": "code",
   "execution_count": null,
   "metadata": {},
   "outputs": [],
   "source": [
    "page_fans = graph.get_connections(id=params['page_id'], connection_name='insights', \n",
    "                                        metric='page_fans',\n",
    "                                        date_preset='today',\n",
    "                                        show_description_from_api_doc=False)\n",
    "\n",
    "dados = page_impressions['data'][0]\n",
    "page_fans = dados['values'][0]['value']\n"
   ]
  },
  {
   "cell_type": "code",
   "execution_count": null,
   "metadata": {},
   "outputs": [],
   "source": [
    "page_fan_adds_unique = graph.get_connections(id=params['page_id'], connection_name='insights', \n",
    "                                        metric='page_fan_adds_unique',\n",
    "                                        date_preset='last_28d',\n",
    "                                        show_description_from_api_doc=False)\n",
    "\n",
    "dados = page_fan_adds_unique['data'][0]\n",
    "page_fan_adds_unique = dados['values'][0]['value']"
   ]
  },
  {
   "cell_type": "code",
   "execution_count": null,
   "metadata": {},
   "outputs": [],
   "source": [
    "page_impressions = graph.get_connections(id=params['page_id'], connection_name='insights', \n",
    "                                        metric='page_impressions',\n",
    "                                        date_preset='last_28d',\n",
    "                                        show_description_from_api_doc=False)\n",
    "\n",
    "dados = page_impressions['data'][0]\n",
    "page_impressions = dados['values'][0]['value']"
   ]
  },
  {
   "cell_type": "code",
   "execution_count": null,
   "metadata": {},
   "outputs": [],
   "source": [
    "page_post_engagements = graph.get_connections(id=params['page_id'], connection_name='insights', \n",
    "                                        metric='page_post_engagements',\n",
    "                                        date_preset='last_28d',\n",
    "                                        show_description_from_api_doc=False)\n",
    "\n",
    "dados = page_post_engagements['data'][0]\n",
    "page_post_engagements = dados['values'][0]['value']"
   ]
  },
  {
   "cell_type": "code",
   "execution_count": null,
   "metadata": {},
   "outputs": [],
   "source": [
    "dados = {\n",
    "    'page_fans': page_fans,\n",
    "    'page_fan_adds_unique': page_fan_adds_unique,\n",
    "    'page_impressions': page_impressions,\n",
    "    'page_post_engagements': page_post_engagements,\n",
    "}"
   ]
  },
  {
   "cell_type": "code",
   "execution_count": null,
   "metadata": {},
   "outputs": [],
   "source": [
    "df_dados = pd.DataFrame({\n",
    "    'page_fans': [page_fans],\n",
    "    'page_fan_adds_unique': [page_fan_adds_unique],\n",
    "    'page_impressions': [page_impressions],\n",
    "    'page_post_engagements': [page_post_engagements],\n",
    "})"
   ]
  },
  {
   "cell_type": "code",
   "execution_count": null,
   "metadata": {},
   "outputs": [],
   "source": [
    "ddd = df_dados.to_dict(orient='records')\n",
    "display(ddd)"
   ]
  },
  {
   "cell_type": "code",
   "execution_count": null,
   "metadata": {},
   "outputs": [],
   "source": [
    "for i in ddd:\n",
    "    print(i[0])"
   ]
  },
  {
   "cell_type": "markdown",
   "metadata": {},
   "source": [
    "AUDICENCIA POR IDADE"
   ]
  },
  {
   "cell_type": "code",
   "execution_count": 1,
   "metadata": {},
   "outputs": [
    {
     "ename": "NameError",
     "evalue": "name 'graph' is not defined",
     "output_type": "error",
     "traceback": [
      "\u001b[1;31m---------------------------------------------------------------------------\u001b[0m",
      "\u001b[1;31mNameError\u001b[0m                                 Traceback (most recent call last)",
      "\u001b[1;32m~\\AppData\\Local\\Temp\\ipykernel_3296\\3619813561.py\u001b[0m in \u001b[0;36m<module>\u001b[1;34m\u001b[0m\n\u001b[1;32m----> 1\u001b[1;33m page_fans_gender_age = graph.get_connections(id=params['page_id'], connection_name='insights', \n\u001b[0m\u001b[0;32m      2\u001b[0m                                         \u001b[0mmetric\u001b[0m\u001b[1;33m=\u001b[0m\u001b[1;34m'page_fans_gender_age'\u001b[0m\u001b[1;33m,\u001b[0m\u001b[1;33m\u001b[0m\u001b[0m\n\u001b[0;32m      3\u001b[0m                                         \u001b[0mdate_preset\u001b[0m\u001b[1;33m=\u001b[0m\u001b[1;34m'this_month'\u001b[0m\u001b[1;33m,\u001b[0m\u001b[1;33m\u001b[0m\u001b[0m\n\u001b[0;32m      4\u001b[0m                                         show_description_from_api_doc=False)\n\u001b[0;32m      5\u001b[0m \u001b[1;33m\u001b[0m\u001b[0m\n",
      "\u001b[1;31mNameError\u001b[0m: name 'graph' is not defined"
     ]
    }
   ],
   "source": [
    "\t\n",
    "page_fans_gender_age = graph.get_connections(id=params['page_id'], connection_name='insights', \n",
    "                                        metric='page_fans_gender_age',\n",
    "                                        date_preset='this_month',\n",
    "                                        show_description_from_api_doc=False)\n",
    "\n",
    "dados = page_fans_gender_age['data'][0]['values']\n",
    "df_page_fans_gender_age = pd.DataFrame(dados[0], columns=['value', 'end_time'])\n",
    "df_page_fans_gender_age.drop([\"end_time\"], axis=1, inplace=True)\n",
    "df_page_fans_gender_age['idade'] = df_page_fans_gender_age.index\n",
    "df_page_fans_gender_age.rename({\"value\": \"Seguidores\"}, axis=1, inplace=True)\n",
    "\n",
    "df_page_fans_gender_age[['Sexo', 'Idade']] = df_page_fans_gender_age['idade'].str.split('.', 1, expand=True)\n",
    "del df_page_fans_gender_age['idade']\n",
    "\n",
    "\n",
    "\n",
    "df_medias = df_page_fans_gender_age.groupby(['Idade'], as_index=False)['Seguidores'].sum()\n",
    "base = sum(df_medias['Seguidores'])\n",
    "df_medias['Média'] = df_medias['Seguidores']/base*100\n",
    "df_medias['Média'] = round(df_medias['Média'], 2)\n",
    "del df_medias['Seguidores']\n",
    "df_medias.rename({\"Idade\": \"x\", \"Média\": \"y\"}, axis=1, inplace=True)\n",
    "dad = df_medias.to_dict(orient='records')\n",
    "dadosfff = dad['y'].replace('-', 'á')\n",
    "print(dadosfff)"
   ]
  }
 ],
 "metadata": {
  "interpreter": {
   "hash": "086361cfe32899f3fd2bbd3df6f83b7735c25725591171184a9f3965a7c81e32"
  },
  "kernelspec": {
   "display_name": "Python 3.7.0 ('.env': venv)",
   "language": "python",
   "name": "python3"
  },
  "language_info": {
   "codemirror_mode": {
    "name": "ipython",
    "version": 3
   },
   "file_extension": ".py",
   "mimetype": "text/x-python",
   "name": "python",
   "nbconvert_exporter": "python",
   "pygments_lexer": "ipython3",
   "version": "3.7.0"
  },
  "orig_nbformat": 4
 },
 "nbformat": 4,
 "nbformat_minor": 2
}
