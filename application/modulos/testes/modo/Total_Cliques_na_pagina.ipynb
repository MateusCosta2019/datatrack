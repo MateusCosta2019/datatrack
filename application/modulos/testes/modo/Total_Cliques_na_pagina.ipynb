{
 "cells": [
  {
   "cell_type": "code",
   "execution_count": 1,
   "metadata": {},
   "outputs": [],
   "source": [
    "import pandas as pd\n",
    "import facebook\n",
    "from datetime import datetime\n",
    "import json \n",
    "from functools import reduce"
   ]
  },
  {
   "cell_type": "code",
   "execution_count": 2,
   "metadata": {},
   "outputs": [],
   "source": [
    "params = dict()\n",
    "params['page_token'] = 'EAAUTdastuisBAKVH0rO5KAEtIpw0f8eBnD2OKie8Y4ZCBv41ayYZAtEGYXL9kEpQ3pfemNKLySZAt7JCZAb31Gh9tK4WAwaEPjeBaaOk0BPFQMnIhAZC0MHsraZCUOQB9SbUlyR0OsWn1FZBDZBgiGi8b0sgaS8HYi6o9ZBlRPaAhJKVX2gXpfiZCXZBWEw8aVDsbgB1SpTJOK48Nfxom1wM7WW'        # not an actual access token\n",
    "params['page_id'] = '623594861616145' \n",
    "graph = facebook.GraphAPI(access_token=params['page_token'], version=\"3.1\")"
   ]
  },
  {
   "cell_type": "code",
   "execution_count": 22,
   "metadata": {},
   "outputs": [
    {
     "data": {
      "text/plain": [
       "0"
      ]
     },
     "metadata": {},
     "output_type": "display_data"
    }
   ],
   "source": [
    "page_total_actions = graph.get_connections(id=params['page_id'], connection_name='insights', \n",
    "                                        metric='page_total_actions',\n",
    "                                        date_preset='last_28d',\n",
    "                                        show_description_from_api_doc=False)\n",
    "dados = page_total_actions['data'][0]['values']\n",
    "df = pd.DataFrame(dados)\n",
    "del df['end_time']\n",
    "dados_finais = sum(df['value'])\n",
    "display(dados_finais)"
   ]
  }
 ],
 "metadata": {
  "interpreter": {
   "hash": "086361cfe32899f3fd2bbd3df6f83b7735c25725591171184a9f3965a7c81e32"
  },
  "kernelspec": {
   "display_name": "Python 3.7.0 ('.env': venv)",
   "language": "python",
   "name": "python3"
  },
  "language_info": {
   "codemirror_mode": {
    "name": "ipython",
    "version": 3
   },
   "file_extension": ".py",
   "mimetype": "text/x-python",
   "name": "python",
   "nbconvert_exporter": "python",
   "pygments_lexer": "ipython3",
   "version": "3.7.0"
  },
  "orig_nbformat": 4
 },
 "nbformat": 4,
 "nbformat_minor": 2
}
