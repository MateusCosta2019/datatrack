{
 "cells": [
  {
   "cell_type": "code",
   "execution_count": 2,
   "metadata": {},
   "outputs": [],
   "source": [
    "import pandas as pd\n",
    "import facebook\n",
    "from datetime import datetime\n",
    "import json \n",
    "from functools import reduce"
   ]
  },
  {
   "cell_type": "code",
   "execution_count": 3,
   "metadata": {},
   "outputs": [],
   "source": [
    "params = dict()\n",
    "params['page_token'] = 'EAAUTdastuisBAIMLdF7hBSIGnxQfmp4JJZBUCem2xZBGwjmOOenZA7r9B3dqsoPNG3oOQgS6WCsfFPprPrTU1zxJZBNac2Aes8iczEN2oAZAjPeqDPgcZBRezHOHoy5qr67A5sjDNCZAZANfdD2Tmt9MZAWRP3lVkh36aDKwZC85RA0lJ4zDP2jcHOSwK5Jg8yaF8XLfHQ3cjDbI7NXk0uXIIm'        # not an actual access token\n",
    "params['page_id'] = '623594861616145' \n",
    "graph = facebook.GraphAPI(access_token=params['page_token'], version=\"3.1\")"
   ]
  },
  {
   "cell_type": "code",
   "execution_count": 18,
   "metadata": {},
   "outputs": [
    {
     "data": {
      "text/html": [
       "<div>\n",
       "<style scoped>\n",
       "    .dataframe tbody tr th:only-of-type {\n",
       "        vertical-align: middle;\n",
       "    }\n",
       "\n",
       "    .dataframe tbody tr th {\n",
       "        vertical-align: top;\n",
       "    }\n",
       "\n",
       "    .dataframe thead th {\n",
       "        text-align: right;\n",
       "    }\n",
       "</style>\n",
       "<table border=\"1\" class=\"dataframe\">\n",
       "  <thead>\n",
       "    <tr style=\"text-align: right;\">\n",
       "      <th></th>\n",
       "      <th>Idade</th>\n",
       "      <th>Seguidores</th>\n",
       "    </tr>\n",
       "  </thead>\n",
       "  <tbody>\n",
       "    <tr>\n",
       "      <th>0</th>\n",
       "      <td>18-24</td>\n",
       "      <td>55</td>\n",
       "    </tr>\n",
       "    <tr>\n",
       "      <th>1</th>\n",
       "      <td>25-34</td>\n",
       "      <td>34</td>\n",
       "    </tr>\n",
       "    <tr>\n",
       "      <th>2</th>\n",
       "      <td>35-44</td>\n",
       "      <td>21</td>\n",
       "    </tr>\n",
       "    <tr>\n",
       "      <th>3</th>\n",
       "      <td>45-54</td>\n",
       "      <td>10</td>\n",
       "    </tr>\n",
       "    <tr>\n",
       "      <th>4</th>\n",
       "      <td>55-64</td>\n",
       "      <td>7</td>\n",
       "    </tr>\n",
       "    <tr>\n",
       "      <th>5</th>\n",
       "      <td>65+</td>\n",
       "      <td>3</td>\n",
       "    </tr>\n",
       "  </tbody>\n",
       "</table>\n",
       "</div>"
      ],
      "text/plain": [
       "   Idade  Seguidores\n",
       "0  18-24          55\n",
       "1  25-34          34\n",
       "2  35-44          21\n",
       "3  45-54          10\n",
       "4  55-64           7\n",
       "5    65+           3"
      ]
     },
     "metadata": {},
     "output_type": "display_data"
    }
   ],
   "source": [
    "\t\n",
    "page_fans_gender_age = graph.get_connections(id=params['page_id'], connection_name='insights', \n",
    "                                        metric='page_fans_gender_age',\n",
    "                                        date_preset='this_month',\n",
    "                                        show_description_from_api_doc=False)\n",
    "\n",
    "dados = page_fans_gender_age['data'][0]['values']\n",
    "df_page_fans_gender_age = pd.DataFrame(dados[0], columns=['value', 'end_time'], )\n",
    "df_page_fans_gender_age.drop([\"end_time\"], axis=1, inplace=True)\n",
    "df_page_fans_gender_age['idade'] = df_page_fans_gender_age.index\n",
    "df_page_fans_gender_age.rename({\"value\": \"Seguidores\"}, axis=1, inplace=True)\n",
    "df_page_fans_gender_age[['Sexo', 'Idade']] = df_page_fans_gender_age['idade'].str.split('.', 1, expand=True)\n",
    "del df_page_fans_gender_age['idade']\n",
    "\n",
    "df_medias = df_page_fans_gender_age.groupby(['Idade'], as_index=False)['Seguidores'].sum()\n",
    "# base = sum(df_medias['Seguidores'])\n",
    "# df_medias['Média'] = df_medias['Seguidores']/base*100\n",
    "# df_medias['Média'] = round(df_medias['Média'], 2)\n",
    "# del df_medias['Seguidores']\n",
    "\n",
    "# df_medias.replace(to_replace=18-24, value='18 à 24')\n",
    "\n",
    "# df_medias['Idade'].replace({'-': ' à '}, regex=True, inplace=True)\n",
    "\n",
    "\n",
    "# df_medias.rename({\"Idade\": \"x\", \"Média\": \"y\"}, axis=1, inplace=True)\n",
    "# dad = df_medias.to_dict(orient='records')\n",
    "\n",
    "display(df_medias)"
   ]
  }
 ],
 "metadata": {
  "interpreter": {
   "hash": "086361cfe32899f3fd2bbd3df6f83b7735c25725591171184a9f3965a7c81e32"
  },
  "kernelspec": {
   "display_name": "Python 3.7.0 ('.env': venv)",
   "language": "python",
   "name": "python3"
  },
  "language_info": {
   "codemirror_mode": {
    "name": "ipython",
    "version": 3
   },
   "file_extension": ".py",
   "mimetype": "text/x-python",
   "name": "python",
   "nbconvert_exporter": "python",
   "pygments_lexer": "ipython3",
   "version": "3.7.0"
  },
  "orig_nbformat": 4
 },
 "nbformat": 4,
 "nbformat_minor": 2
}
