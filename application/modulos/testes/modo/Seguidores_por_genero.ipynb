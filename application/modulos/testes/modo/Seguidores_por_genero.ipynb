{
 "cells": [
  {
   "cell_type": "code",
   "execution_count": 2,
   "metadata": {},
   "outputs": [],
   "source": [
    "import pandas as pd\n",
    "import facebook\n",
    "from datetime import datetime\n",
    "import json \n",
    "from functools import reduce"
   ]
  },
  {
   "cell_type": "code",
   "execution_count": 3,
   "metadata": {},
   "outputs": [],
   "source": [
    "params = dict()\n",
    "params['page_token'] = 'EAAUTdastuisBABYEs0Mnhk5fH9J7c7wBNfvyoYTTCqn13mnFOFuBO4S3E68gZCgSCejn84cDBjQWgNZCx4soDtlSN2oELSXhRt6XOXgDZCVNiuImPjZB7lJm3f8YN3Hs6ZBuwZArNM0CY6foLeD7YGjAE6cWGlvppWDoZBJdF5zxUfJyTNA05JAvSDDJH9kVQwc0ZAZCthZArGZBZBEFnuFuLPZBK'        # not an actual access token\n",
    "params['page_id'] = '623594861616145' \n",
    "graph = facebook.GraphAPI(access_token=params['page_token'], version=\"3.1\")"
   ]
  },
  {
   "cell_type": "code",
   "execution_count": 31,
   "metadata": {},
   "outputs": [
    {
     "name": "stdout",
     "output_type": "stream",
     "text": [
      "[50.0, 50.0]\n"
     ]
    }
   ],
   "source": [
    "\t\n",
    "page_fans_gender_age = graph.get_connections(id=params['page_id'], connection_name='insights', \n",
    "                                        metric='page_fans_gender_age',\n",
    "                                        date_preset='this_month',\n",
    "                                        show_description_from_api_doc=False)\n",
    "\n",
    "dados = page_fans_gender_age['data'][0]['values']\n",
    "df_page_fans_gender_age = pd.DataFrame(dados[0], columns=['value', 'end_time'])\n",
    "df_page_fans_gender_age.drop([\"end_time\"], axis=1, inplace=True)\n",
    "df_page_fans_gender_age['idade'] = df_page_fans_gender_age.index\n",
    "df_page_fans_gender_age.rename({\"value\": \"Seguidores\"}, axis=1, inplace=True)\n",
    "df_page_fans_gender_age[['Sexo', 'Idade']] = df_page_fans_gender_age['idade'].str.split('.', 1, expand=True)\n",
    "df_medias = df_page_fans_gender_age.groupby(['Sexo'], as_index=False)['Seguidores'].sum()\n",
    "base = sum(df_medias['Seguidores'])\n",
    "df_medias['Média'] = df_medias['Seguidores']/base*100\n",
    "df_medias['Média'] = round(df_medias['Média'], 2)\n",
    "del df_medias['Seguidores']\n",
    "df_medias.rename({\"Sexo\": \"x\", \"Média\": \"y\"}, axis=1, inplace=True)\n",
    "del df_medias['x']\n",
    "dad = df_medias['y'].to_list()\n",
    "\n",
    "print(dad)"
   ]
  }
 ],
 "metadata": {
  "interpreter": {
   "hash": "086361cfe32899f3fd2bbd3df6f83b7735c25725591171184a9f3965a7c81e32"
  },
  "kernelspec": {
   "display_name": "Python 3.7.0 ('.env': venv)",
   "language": "python",
   "name": "python3"
  },
  "language_info": {
   "codemirror_mode": {
    "name": "ipython",
    "version": 3
   },
   "file_extension": ".py",
   "mimetype": "text/x-python",
   "name": "python",
   "nbconvert_exporter": "python",
   "pygments_lexer": "ipython3",
   "version": "3.7.0"
  },
  "orig_nbformat": 4
 },
 "nbformat": 4,
 "nbformat_minor": 2
}
