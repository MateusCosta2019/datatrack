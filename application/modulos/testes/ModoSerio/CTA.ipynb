{
 "cells": [
  {
   "cell_type": "code",
   "execution_count": 2,
   "metadata": {},
   "outputs": [],
   "source": [
    "import pandas as pd\n",
    "import facebook\n",
    "\n",
    "params = dict()\n",
    "params['page_token'] = 'EAAUTdastuisBAIMLdF7hBSIGnxQfmp4JJZBUCem2xZBGwjmOOenZA7r9B3dqsoPNG3oOQgS6WCsfFPprPrTU1zxJZBNac2Aes8iczEN2oAZAjPeqDPgcZBRezHOHoy5qr67A5sjDNCZAZANfdD2Tmt9MZAWRP3lVkh36aDKwZC85RA0lJ4zDP2jcHOSwK5Jg8yaF8XLfHQ3cjDbI7NXk0uXIIm'        # not an actual access token\n",
    "params['page_id'] = '623594861616145' \n",
    "graph = facebook.GraphAPI(access_token=params['page_token'], version=\"3.1\")"
   ]
  },
  {
   "cell_type": "markdown",
   "metadata": {},
   "source": [
    "CTA ANALISE"
   ]
  },
  {
   "cell_type": "code",
   "execution_count": 12,
   "metadata": {},
   "outputs": [
    {
     "data": {
      "text/plain": [
       "0"
      ]
     },
     "metadata": {},
     "output_type": "display_data"
    }
   ],
   "source": [
    "page_total_actions = graph.get_connections(id=params['page_id'], \n",
    "                                connection_name='insights', \n",
    "                                metric='page_total_actions',\n",
    "                                date_preset='last_28d',)\n",
    "\n",
    "page_total_actions = page_total_actions['data'][0]['values']\n",
    "df_clicks = pd.DataFrame(page_total_actions, columns=['value', 'end_time'])\n",
    "del df_clicks['end_time']\n",
    "dados_finais = sum(df_clicks['value'])\n",
    "display(dados_finais)"
   ]
  },
  {
   "cell_type": "markdown",
   "metadata": {},
   "source": [
    "BTN CHAMADA PARA AÇÃO"
   ]
  },
  {
   "cell_type": "code",
   "execution_count": 20,
   "metadata": {},
   "outputs": [
    {
     "data": {
      "text/html": [
       "<div>\n",
       "<style scoped>\n",
       "    .dataframe tbody tr th:only-of-type {\n",
       "        vertical-align: middle;\n",
       "    }\n",
       "\n",
       "    .dataframe tbody tr th {\n",
       "        vertical-align: top;\n",
       "    }\n",
       "\n",
       "    .dataframe thead th {\n",
       "        text-align: right;\n",
       "    }\n",
       "</style>\n",
       "<table border=\"1\" class=\"dataframe\">\n",
       "  <thead>\n",
       "    <tr style=\"text-align: right;\">\n",
       "      <th></th>\n",
       "      <th>value</th>\n",
       "    </tr>\n",
       "  </thead>\n",
       "  <tbody>\n",
       "    <tr>\n",
       "      <th>0</th>\n",
       "      <td>{'623625278279770': 0}</td>\n",
       "    </tr>\n",
       "    <tr>\n",
       "      <th>1</th>\n",
       "      <td>{'623625278279770': 0}</td>\n",
       "    </tr>\n",
       "    <tr>\n",
       "      <th>2</th>\n",
       "      <td>{'623625278279770': 0}</td>\n",
       "    </tr>\n",
       "    <tr>\n",
       "      <th>3</th>\n",
       "      <td>{'623625278279770': 0}</td>\n",
       "    </tr>\n",
       "    <tr>\n",
       "      <th>4</th>\n",
       "      <td>{'623625278279770': 0}</td>\n",
       "    </tr>\n",
       "    <tr>\n",
       "      <th>5</th>\n",
       "      <td>{'623625278279770': 0}</td>\n",
       "    </tr>\n",
       "    <tr>\n",
       "      <th>6</th>\n",
       "      <td>{'623625278279770': 0}</td>\n",
       "    </tr>\n",
       "    <tr>\n",
       "      <th>7</th>\n",
       "      <td>{'623625278279770': 0}</td>\n",
       "    </tr>\n",
       "    <tr>\n",
       "      <th>8</th>\n",
       "      <td>{'623625278279770': 0}</td>\n",
       "    </tr>\n",
       "    <tr>\n",
       "      <th>9</th>\n",
       "      <td>{'623625278279770': 0}</td>\n",
       "    </tr>\n",
       "    <tr>\n",
       "      <th>10</th>\n",
       "      <td>{'623625278279770': 0}</td>\n",
       "    </tr>\n",
       "    <tr>\n",
       "      <th>11</th>\n",
       "      <td>{'623625278279770': 0}</td>\n",
       "    </tr>\n",
       "    <tr>\n",
       "      <th>12</th>\n",
       "      <td>{'623625278279770': 0}</td>\n",
       "    </tr>\n",
       "    <tr>\n",
       "      <th>13</th>\n",
       "      <td>{'623625278279770': 0}</td>\n",
       "    </tr>\n",
       "    <tr>\n",
       "      <th>14</th>\n",
       "      <td>{'623625278279770': 0}</td>\n",
       "    </tr>\n",
       "    <tr>\n",
       "      <th>15</th>\n",
       "      <td>{'623625278279770': 0}</td>\n",
       "    </tr>\n",
       "    <tr>\n",
       "      <th>16</th>\n",
       "      <td>{'623625278279770': 0}</td>\n",
       "    </tr>\n",
       "    <tr>\n",
       "      <th>17</th>\n",
       "      <td>{'623625278279770': 0}</td>\n",
       "    </tr>\n",
       "    <tr>\n",
       "      <th>18</th>\n",
       "      <td>{'623625278279770': 0}</td>\n",
       "    </tr>\n",
       "    <tr>\n",
       "      <th>19</th>\n",
       "      <td>{'623625278279770': 0}</td>\n",
       "    </tr>\n",
       "    <tr>\n",
       "      <th>20</th>\n",
       "      <td>{'623625278279770': 0}</td>\n",
       "    </tr>\n",
       "    <tr>\n",
       "      <th>21</th>\n",
       "      <td>{'623625278279770': 0}</td>\n",
       "    </tr>\n",
       "    <tr>\n",
       "      <th>22</th>\n",
       "      <td>{'623625278279770': 0}</td>\n",
       "    </tr>\n",
       "    <tr>\n",
       "      <th>23</th>\n",
       "      <td>{'623625278279770': 0}</td>\n",
       "    </tr>\n",
       "    <tr>\n",
       "      <th>24</th>\n",
       "      <td>{'623625278279770': 0}</td>\n",
       "    </tr>\n",
       "    <tr>\n",
       "      <th>25</th>\n",
       "      <td>{'623625278279770': 0}</td>\n",
       "    </tr>\n",
       "    <tr>\n",
       "      <th>26</th>\n",
       "      <td>{'623625278279770': 0}</td>\n",
       "    </tr>\n",
       "    <tr>\n",
       "      <th>27</th>\n",
       "      <td>{'623625278279770': 0}</td>\n",
       "    </tr>\n",
       "  </tbody>\n",
       "</table>\n",
       "</div>"
      ],
      "text/plain": [
       "                     value\n",
       "0   {'623625278279770': 0}\n",
       "1   {'623625278279770': 0}\n",
       "2   {'623625278279770': 0}\n",
       "3   {'623625278279770': 0}\n",
       "4   {'623625278279770': 0}\n",
       "5   {'623625278279770': 0}\n",
       "6   {'623625278279770': 0}\n",
       "7   {'623625278279770': 0}\n",
       "8   {'623625278279770': 0}\n",
       "9   {'623625278279770': 0}\n",
       "10  {'623625278279770': 0}\n",
       "11  {'623625278279770': 0}\n",
       "12  {'623625278279770': 0}\n",
       "13  {'623625278279770': 0}\n",
       "14  {'623625278279770': 0}\n",
       "15  {'623625278279770': 0}\n",
       "16  {'623625278279770': 0}\n",
       "17  {'623625278279770': 0}\n",
       "18  {'623625278279770': 0}\n",
       "19  {'623625278279770': 0}\n",
       "20  {'623625278279770': 0}\n",
       "21  {'623625278279770': 0}\n",
       "22  {'623625278279770': 0}\n",
       "23  {'623625278279770': 0}\n",
       "24  {'623625278279770': 0}\n",
       "25  {'623625278279770': 0}\n",
       "26  {'623625278279770': 0}\n",
       "27  {'623625278279770': 0}"
      ]
     },
     "metadata": {},
     "output_type": "display_data"
    }
   ],
   "source": [
    "btn_action = graph.get_connections(id=params['page_id'], \n",
    "                                connection_name='insights', \n",
    "                                metric='page_cta_clicks_logged_in_unique',\n",
    "                                date_preset='last_28d',)\n",
    "\n",
    "btn_action = btn_action['data'][0]['values']\n",
    "df_btn_action = pd.DataFrame(btn_action, columns=['value', 'end_time'])\n",
    "del df_btn_action['end_time']\n",
    "\n",
    "# dados_finais = sum(df_btn_action['value'])\n",
    "display(df_btn_action)"
   ]
  },
  {
   "cell_type": "markdown",
   "metadata": {},
   "source": [
    "BTN LIGAR"
   ]
  },
  {
   "cell_type": "code",
   "execution_count": null,
   "metadata": {},
   "outputs": [],
   "source": [
    "page_total_actions = graph.get_connections(id=params['page_id'], \n",
    "                                connection_name='insights', \n",
    "                                metric='page_total_actions',\n",
    "                                date_preset='last_28d',)\n",
    "\n",
    "page_total_actions = page_total_actions['data'][0]['values']\n",
    "df_clicks = pd.DataFrame(page_total_actions, columns=['value', 'end_time'])\n",
    "del df_clicks['end_time']\n",
    "dados_finais = sum(df_clicks['value'])\n",
    "display(dados_finais)"
   ]
  },
  {
   "cell_type": "markdown",
   "metadata": {},
   "source": [
    "BTN COMO CHEGAR"
   ]
  },
  {
   "cell_type": "code",
   "execution_count": null,
   "metadata": {},
   "outputs": [],
   "source": [
    "page_total_actions = graph.get_connections(id=params['page_id'], \n",
    "                                connection_name='insights', \n",
    "                                metric='page_total_actions',\n",
    "                                date_preset='last_28d',)\n",
    "\n",
    "page_total_actions = page_total_actions['data'][0]['values']\n",
    "df_clicks = pd.DataFrame(page_total_actions, columns=['value', 'end_time'])\n",
    "del df_clicks['end_time']\n",
    "dados_finais = sum(df_clicks['value'])\n",
    "display(dados_finais)"
   ]
  },
  {
   "cell_type": "markdown",
   "metadata": {},
   "source": [
    "BTN IR PARA O SITE"
   ]
  },
  {
   "cell_type": "code",
   "execution_count": null,
   "metadata": {},
   "outputs": [],
   "source": [
    "page_total_actions = graph.get_connections(id=params['page_id'], \n",
    "                                connection_name='insights', \n",
    "                                metric='page_total_actions',\n",
    "                                date_preset='last_28d',)\n",
    "\n",
    "page_total_actions = page_total_actions['data'][0]['values']\n",
    "df_clicks = pd.DataFrame(page_total_actions, columns=['value', 'end_time'])\n",
    "del df_clicks['end_time']\n",
    "dados_finais = sum(df_clicks['value'])\n",
    "display(dados_finais)"
   ]
  }
 ],
 "metadata": {
  "interpreter": {
   "hash": "086361cfe32899f3fd2bbd3df6f83b7735c25725591171184a9f3965a7c81e32"
  },
  "kernelspec": {
   "display_name": "Python 3.7.0 ('.env': venv)",
   "language": "python",
   "name": "python3"
  },
  "language_info": {
   "codemirror_mode": {
    "name": "ipython",
    "version": 3
   },
   "file_extension": ".py",
   "mimetype": "text/x-python",
   "name": "python",
   "nbconvert_exporter": "python",
   "pygments_lexer": "ipython3",
   "version": "3.7.0"
  },
  "orig_nbformat": 4
 },
 "nbformat": 4,
 "nbformat_minor": 2
}
