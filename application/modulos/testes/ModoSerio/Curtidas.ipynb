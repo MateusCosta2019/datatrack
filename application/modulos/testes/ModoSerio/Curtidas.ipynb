{
 "cells": [
  {
   "cell_type": "code",
   "execution_count": 2,
   "metadata": {},
   "outputs": [],
   "source": [
    "import pandas as pd\n",
    "import facebook\n",
    "from datetime import datetime\n",
    "import json \n",
    "from functools import reduce"
   ]
  },
  {
   "cell_type": "code",
   "execution_count": 11,
   "metadata": {},
   "outputs": [],
   "source": [
    "params = dict()\n",
    "params['page_token'] = 'EAAUTdastuisBAIMLdF7hBSIGnxQfmp4JJZBUCem2xZBGwjmOOenZA7r9B3dqsoPNG3oOQgS6WCsfFPprPrTU1zxJZBNac2Aes8iczEN2oAZAjPeqDPgcZBRezHOHoy5qr67A5sjDNCZAZANfdD2Tmt9MZAWRP3lVkh36aDKwZC85RA0lJ4zDP2jcHOSwK5Jg8yaF8XLfHQ3cjDbI7NXk0uXIIm'        # not an actual access token\n",
    "params['page_id'] = '623594861616145' \n",
    "graph = facebook.GraphAPI(access_token=params['page_token'], version=\"3.1\")"
   ]
  },
  {
   "cell_type": "markdown",
   "metadata": {},
   "source": [
    "CURTIDAS NA PAGINA"
   ]
  },
  {
   "cell_type": "code",
   "execution_count": 15,
   "metadata": {},
   "outputs": [
    {
     "data": {
      "text/plain": [
       "129"
      ]
     },
     "metadata": {},
     "output_type": "display_data"
    }
   ],
   "source": [
    "curtidas = graph.get_connections(id=params['page_id'], \n",
    "                                connection_name='insights', \n",
    "                                metric='page_fans',\n",
    "                                date_preset='today',)\n",
    "\n",
    "dados_curtidas = curtidas['data'][0]['values'][0]['value']\n",
    "display(dados_curtidas)"
   ]
  },
  {
   "cell_type": "markdown",
   "metadata": {},
   "source": [
    "CURTIDAS NA PAGINA POR CIDADE"
   ]
  },
  {
   "cell_type": "code",
   "execution_count": 10,
   "metadata": {},
   "outputs": [
    {
     "data": {
      "text/html": [
       "<div>\n",
       "<style scoped>\n",
       "    .dataframe tbody tr th:only-of-type {\n",
       "        vertical-align: middle;\n",
       "    }\n",
       "\n",
       "    .dataframe tbody tr th {\n",
       "        vertical-align: top;\n",
       "    }\n",
       "\n",
       "    .dataframe thead th {\n",
       "        text-align: right;\n",
       "    }\n",
       "</style>\n",
       "<table border=\"1\" class=\"dataframe\">\n",
       "  <thead>\n",
       "    <tr style=\"text-align: right;\">\n",
       "      <th></th>\n",
       "      <th>value</th>\n",
       "      <th>Cidade</th>\n",
       "    </tr>\n",
       "  </thead>\n",
       "  <tbody>\n",
       "    <tr>\n",
       "      <th>0</th>\n",
       "      <td>1</td>\n",
       "      <td>Barueri, SP</td>\n",
       "    </tr>\n",
       "    <tr>\n",
       "      <th>1</th>\n",
       "      <td>1</td>\n",
       "      <td>Brotas, SP</td>\n",
       "    </tr>\n",
       "    <tr>\n",
       "      <th>2</th>\n",
       "      <td>1</td>\n",
       "      <td>Campinas, SP</td>\n",
       "    </tr>\n",
       "    <tr>\n",
       "      <th>3</th>\n",
       "      <td>2</td>\n",
       "      <td>Embu das Artes, SP</td>\n",
       "    </tr>\n",
       "    <tr>\n",
       "      <th>4</th>\n",
       "      <td>1</td>\n",
       "      <td>Irati, PR</td>\n",
       "    </tr>\n",
       "    <tr>\n",
       "      <th>5</th>\n",
       "      <td>1</td>\n",
       "      <td>Itapecerica da Serra, SP</td>\n",
       "    </tr>\n",
       "    <tr>\n",
       "      <th>6</th>\n",
       "      <td>2</td>\n",
       "      <td>Itapevi, SP</td>\n",
       "    </tr>\n",
       "    <tr>\n",
       "      <th>7</th>\n",
       "      <td>1</td>\n",
       "      <td>Jaboatão dos Guararapes, PE</td>\n",
       "    </tr>\n",
       "    <tr>\n",
       "      <th>8</th>\n",
       "      <td>1</td>\n",
       "      <td>Lisboa, Portugal</td>\n",
       "    </tr>\n",
       "    <tr>\n",
       "      <th>9</th>\n",
       "      <td>1</td>\n",
       "      <td>Londrina, PR</td>\n",
       "    </tr>\n",
       "    <tr>\n",
       "      <th>10</th>\n",
       "      <td>1</td>\n",
       "      <td>Osasco, SP</td>\n",
       "    </tr>\n",
       "    <tr>\n",
       "      <th>11</th>\n",
       "      <td>1</td>\n",
       "      <td>Recife, PE</td>\n",
       "    </tr>\n",
       "    <tr>\n",
       "      <th>12</th>\n",
       "      <td>4</td>\n",
       "      <td>Sorocaba, SP</td>\n",
       "    </tr>\n",
       "    <tr>\n",
       "      <th>13</th>\n",
       "      <td>1</td>\n",
       "      <td>São José da Lagoa Tapada, PB</td>\n",
       "    </tr>\n",
       "    <tr>\n",
       "      <th>14</th>\n",
       "      <td>106</td>\n",
       "      <td>São Paulo, SP</td>\n",
       "    </tr>\n",
       "    <tr>\n",
       "      <th>15</th>\n",
       "      <td>4</td>\n",
       "      <td>Taboão da Serra, SP</td>\n",
       "    </tr>\n",
       "  </tbody>\n",
       "</table>\n",
       "</div>"
      ],
      "text/plain": [
       "    value                        Cidade\n",
       "0       1                   Barueri, SP\n",
       "1       1                    Brotas, SP\n",
       "2       1                  Campinas, SP\n",
       "3       2            Embu das Artes, SP\n",
       "4       1                     Irati, PR\n",
       "5       1      Itapecerica da Serra, SP\n",
       "6       2                   Itapevi, SP\n",
       "7       1   Jaboatão dos Guararapes, PE\n",
       "8       1              Lisboa, Portugal\n",
       "9       1                  Londrina, PR\n",
       "10      1                    Osasco, SP\n",
       "11      1                    Recife, PE\n",
       "12      4                  Sorocaba, SP\n",
       "13      1  São José da Lagoa Tapada, PB\n",
       "14    106                 São Paulo, SP\n",
       "15      4           Taboão da Serra, SP"
      ]
     },
     "metadata": {},
     "output_type": "display_data"
    }
   ],
   "source": [
    "curtidas_por_cidade = graph.get_connections(id=params['page_id'], \n",
    "                                connection_name='insights', \n",
    "                                metric='page_fans_city',\n",
    "                                date_preset='',)\n",
    "\n",
    "dados_por_cidade = curtidas_por_cidade['data'][0]['values'][0]\n",
    "df_curtidas_por_cidade = pd.DataFrame(dados_por_cidade, columns=['value'])\n",
    "df_curtidas_por_cidade['Cidade'] = df_curtidas_por_cidade.index\n",
    "df_curtidas_por_cidade.reset_index(drop=True, inplace=True)\n",
    "display(df_curtidas_por_cidade)"
   ]
  },
  {
   "cell_type": "markdown",
   "metadata": {},
   "source": [
    "% CURTIDAS NA PAGINA POR GÊNERO"
   ]
  },
  {
   "cell_type": "code",
   "execution_count": 9,
   "metadata": {},
   "outputs": [
    {
     "data": {
      "text/plain": [
       "[{'x': 'F', 'y': 50.0}, {'x': 'M', 'y': 50.0}]"
      ]
     },
     "metadata": {},
     "output_type": "display_data"
    }
   ],
   "source": [
    "page_fans_gender_age = graph.get_connections(id=params['page_id'], connection_name='insights', \n",
    "                                        metric='page_fans_gender_age',\n",
    "                                        date_preset='this_month',\n",
    "                                        show_description_from_api_doc=False)\n",
    "\n",
    "dados = page_fans_gender_age['data'][0]['values']\n",
    "df_page_fans_gender_age = pd.DataFrame(dados[0], columns=['value', 'end_time'])\n",
    "df_page_fans_gender_age.drop([\"end_time\"], axis=1, inplace=True)\n",
    "df_page_fans_gender_age['idade'] = df_page_fans_gender_age.index\n",
    "df_page_fans_gender_age.rename({\"value\": \"Seguidores\"}, axis=1, inplace=True)\n",
    "df_page_fans_gender_age[['Sexo', 'Idade']] = df_page_fans_gender_age['idade'].str.split('.', 1, expand=True)\n",
    "df_medias = df_page_fans_gender_age.groupby(['Sexo'], as_index=False)['Seguidores'].sum()\n",
    "base = sum(df_medias['Seguidores'])\n",
    "df_medias['Média'] = df_medias['Seguidores']/base*100\n",
    "df_medias['Média'] = round(df_medias['Média'], 2)\n",
    "del df_medias['Seguidores']\n",
    "df_medias.rename({\"Sexo\": \"x\", \"Média\": \"y\"}, axis=1, inplace=True)\n",
    "dad = df_medias.to_dict(orient='records')\n",
    "display(dad)"
   ]
  },
  {
   "cell_type": "markdown",
   "metadata": {},
   "source": [
    "NOVAS CURTIDAS NA PAGINA"
   ]
  },
  {
   "cell_type": "code",
   "execution_count": null,
   "metadata": {},
   "outputs": [
    {
     "data": {
      "text/plain": [
       "6"
      ]
     },
     "metadata": {},
     "output_type": "display_data"
    }
   ],
   "source": [
    "page_fan_adds_unique = graph.get_connections(id=params['page_id'], connection_name='insights', \n",
    "                                        metric='page_fan_adds_unique',\n",
    "                                        date_preset='last_year',\n",
    "                                        show_description_from_api_doc=False)\n",
    "\n",
    "dados_new = page_fan_adds_unique['data'][0]['values']\n",
    "df_new = pd.DataFrame(dados_new, columns=['value', 'end_time'])\n",
    "dados_final_new = sum(df_new['value'])\n",
    "display(dados_final_new)"
   ]
  }
 ],
 "metadata": {
  "interpreter": {
   "hash": "086361cfe32899f3fd2bbd3df6f83b7735c25725591171184a9f3965a7c81e32"
  },
  "kernelspec": {
   "display_name": "Python 3.7.0 ('.env': venv)",
   "language": "python",
   "name": "python3"
  },
  "language_info": {
   "codemirror_mode": {
    "name": "ipython",
    "version": 3
   },
   "file_extension": ".py",
   "mimetype": "text/x-python",
   "name": "python",
   "nbconvert_exporter": "python",
   "pygments_lexer": "ipython3",
   "version": "3.7.0"
  },
  "orig_nbformat": 4
 },
 "nbformat": 4,
 "nbformat_minor": 2
}
