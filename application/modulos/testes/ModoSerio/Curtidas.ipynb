{
 "cells": [
  {
   "cell_type": "code",
   "execution_count": 1,
   "metadata": {},
   "outputs": [],
   "source": [
    "import pandas as pd\n",
    "import facebook"
   ]
  },
  {
   "cell_type": "code",
   "execution_count": 16,
   "metadata": {},
   "outputs": [
    {
     "data": {
      "text/plain": [
       "{'error': {'message': '(#100) Tried accessing nonexisting field (media) on node type (Page)',\n",
       "  'type': 'OAuthException',\n",
       "  'code': 100,\n",
       "  'fbtrace_id': 'A4qQnVkvJON1lDts1KbIZu5'}}"
      ]
     },
     "execution_count": 16,
     "metadata": {},
     "output_type": "execute_result"
    }
   ],
   "source": [
    "# Import Libraries\n",
    "import requests\n",
    "import json\n",
    "import datetime\n",
    "import pandas as pd\n",
    "\n",
    "# Define Parameters Dictionary\n",
    "params = dict()\n",
    "params['access_token'] = 'EAAUTdastuisBANEAer7i1ZCZBF3sRXHNLZBejs2XtCZAcOEs7MUhUBYEWeVfIB7e0P1qViOag0JUrPvfRnMWzvMKebuLHw5Ot0hQMtQDewvDOULyRsOJinGabZAiQnTZBMT2Xjm7lMBy4Mz4mEc38gJrZCrfIrQptIsCTLVa2gEZB84ZCq9HYQf5ZCmZBuDVwjL0pZCrwtDFh4mXVv9GpGuF2Vmb'        # not an actual access token\n",
    "params['client_id'] = '1428770987555371'                  # not an actual client id\n",
    "params['client_secret'] = '7ed802f01ed28edf0001a40eb4e64247'     # not an actual client secret\n",
    "params['graph_domain'] = 'https://graph.facebook.com'\n",
    "params['graph_version'] = 'v13.0'\n",
    "params['endpoint_base'] = params['graph_domain'] + '/' + params['graph_version'] + '/'\n",
    "params['page_id'] = '623594861616145'                  # not an actual page id\n",
    "params['instagram_account_id'] = '623594861616145'        # not an actual instagram business account id\n",
    "\n",
    "# Define URL\n",
    "url = params['endpoint_base'] + params['instagram_account_id'] + '/media'\n",
    "\n",
    "# Define Endpoint Parameters\n",
    "endpointParams = dict()\n",
    "endpointParams['fields'] = 'id,caption,media_type,media_url,permalink,thumbnail_url,timestamp,username,like_count,comments_count'\n",
    "endpointParams['access_token'] = params['access_token']\n",
    "\n",
    "# Requests Data\n",
    "data = requests.get(url, endpointParams )\n",
    "basic_insight = json.loads(data.content)\n",
    "basic_insight"
   ]
  }
 ],
 "metadata": {
  "interpreter": {
   "hash": "086361cfe32899f3fd2bbd3df6f83b7735c25725591171184a9f3965a7c81e32"
  },
  "kernelspec": {
   "display_name": "Python 3.7.0 ('.env': venv)",
   "language": "python",
   "name": "python3"
  },
  "language_info": {
   "codemirror_mode": {
    "name": "ipython",
    "version": 3
   },
   "file_extension": ".py",
   "mimetype": "text/x-python",
   "name": "python",
   "nbconvert_exporter": "python",
   "pygments_lexer": "ipython3",
   "version": "3.7.0"
  },
  "orig_nbformat": 4
 },
 "nbformat": 4,
 "nbformat_minor": 2
}
