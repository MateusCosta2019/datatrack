{
 "cells": [
  {
   "cell_type": "code",
   "execution_count": 1,
   "metadata": {},
   "outputs": [],
   "source": [
    "import pandas as pd\n",
    "import facebook\n",
    "\n",
    "params = dict()\n",
    "params['page_token'] = 'EAAUTdastuisBAIMLdF7hBSIGnxQfmp4JJZBUCem2xZBGwjmOOenZA7r9B3dqsoPNG3oOQgS6WCsfFPprPrTU1zxJZBNac2Aes8iczEN2oAZAjPeqDPgcZBRezHOHoy5qr67A5sjDNCZAZANfdD2Tmt9MZAWRP3lVkh36aDKwZC85RA0lJ4zDP2jcHOSwK5Jg8yaF8XLfHQ3cjDbI7NXk0uXIIm'        # not an actual access token\n",
    "params['page_id'] = '623594861616145' \n",
    "graph = facebook.GraphAPI(access_token=params['page_token'], version=\"3.1\")"
   ]
  },
  {
   "cell_type": "markdown",
   "metadata": {},
   "source": [
    "ENGAJAMENTO NA PAGINA"
   ]
  },
  {
   "cell_type": "code",
   "execution_count": 6,
   "metadata": {},
   "outputs": [
    {
     "data": {
      "text/plain": [
       "0"
      ]
     },
     "metadata": {},
     "output_type": "display_data"
    }
   ],
   "source": [
    "page_engaged_users = graph.get_connections(id=params['page_id'], \n",
    "                                connection_name='insights', \n",
    "                                metric='page_engaged_users',\n",
    "                                date_preset='last_28d',)\n",
    "\n",
    "dados_page_engaged_users = page_engaged_users['data'][0]['values']\n",
    "df_page_engaged_users = pd.DataFrame(dados_page_engaged_users, columns=['value', 'end_time'])\n",
    "del df_page_engaged_users['end_time']\n",
    "dados_finais = sum(df_page_engaged_users['value'])\n",
    "display(dados_finais)"
   ]
  }
 ],
 "metadata": {
  "interpreter": {
   "hash": "086361cfe32899f3fd2bbd3df6f83b7735c25725591171184a9f3965a7c81e32"
  },
  "kernelspec": {
   "display_name": "Python 3.7.0 ('.env': venv)",
   "language": "python",
   "name": "python3"
  },
  "language_info": {
   "codemirror_mode": {
    "name": "ipython",
    "version": 3
   },
   "file_extension": ".py",
   "mimetype": "text/x-python",
   "name": "python",
   "nbconvert_exporter": "python",
   "pygments_lexer": "ipython3",
   "version": "3.7.0"
  },
  "orig_nbformat": 4
 },
 "nbformat": 4,
 "nbformat_minor": 2
}
