{
 "cells": [
  {
   "cell_type": "code",
   "execution_count": 4,
   "metadata": {},
   "outputs": [],
   "source": [
    "import pandas as pd\n",
    "import facebook"
   ]
  },
  {
   "cell_type": "code",
   "execution_count": 5,
   "metadata": {},
   "outputs": [],
   "source": [
    "params = dict()\n",
    "params['page_token'] = 'EAAUTdastuisBAHp8lr1JvivwIFZATcRXT6DhXaJZCTxb8fNYeAglB9Q2XaSJfcNfrnLQg7GCGIVDLQy3MKUADw1FNBSDFIclC8oNdQJp7MeYhYy4ysZB0UVJ1Y7deJ4dRTe05VRpXkzZCXFBqmxb65YvyjuuyPMvCCObcRZAAWCn9QLckcvsczqSWZAH5Sq5qceKiz3ZCB7ZCbrLF87vc4vq'        # not an actual access token\n",
    "params['page_id'] = '623594861616145' \n",
    "graph = facebook.GraphAPI(access_token=params['page_token'], version=\"3.1\")"
   ]
  },
  {
   "cell_type": "markdown",
   "metadata": {},
   "source": [
    "ALCANCE DA PAGINA"
   ]
  },
  {
   "cell_type": "code",
   "execution_count": 22,
   "metadata": {},
   "outputs": [
    {
     "data": {
      "text/plain": [
       "[{'x': '01-04-22', 'y': 0},\n",
       " {'x': '02-04-22', 'y': 0},\n",
       " {'x': '03-04-22', 'y': 0},\n",
       " {'x': '04-04-22', 'y': 0},\n",
       " {'x': '05-04-22', 'y': 0},\n",
       " {'x': '06-04-22', 'y': 0},\n",
       " {'x': '07-04-22', 'y': 0},\n",
       " {'x': '08-04-22', 'y': 0},\n",
       " {'x': '09-04-22', 'y': 0},\n",
       " {'x': '10-04-22', 'y': 0},\n",
       " {'x': '11-04-22', 'y': 0},\n",
       " {'x': '12-04-22', 'y': 0},\n",
       " {'x': '13-04-22', 'y': 0},\n",
       " {'x': '14-04-22', 'y': 0},\n",
       " {'x': '15-04-22', 'y': 0},\n",
       " {'x': '16-04-22', 'y': 0},\n",
       " {'x': '17-04-22', 'y': 0},\n",
       " {'x': '18-04-22', 'y': 0},\n",
       " {'x': '19-04-22', 'y': 13},\n",
       " {'x': '20-04-22', 'y': 0},\n",
       " {'x': '21-04-22', 'y': 0},\n",
       " {'x': '22-04-22', 'y': 0},\n",
       " {'x': '23-04-22', 'y': 1},\n",
       " {'x': '24-04-22', 'y': 0},\n",
       " {'x': '25-04-22', 'y': 0},\n",
       " {'x': '26-04-22', 'y': 0},\n",
       " {'x': '27-04-22', 'y': 10},\n",
       " {'x': '28-04-22', 'y': 0}]"
      ]
     },
     "metadata": {},
     "output_type": "display_data"
    }
   ],
   "source": [
    "Impressoes = graph.get_connections(id=params['page_id'], \n",
    "                                connection_name='insights', \n",
    "                                metric='post_impressions',\n",
    "                                date_preset='last_28d')\n",
    "\n",
    "dados_Impressoes = Impressoes['data'][0]['values']\n",
    "df_impressoes = pd.DataFrame(dados_Impressoes, columns=['value', 'end_time'])\n",
    "\n",
    "df_impressoes['end_time'] = pd.to_datetime(df_impressoes['end_time'], errors='coerce')\n",
    "df_impressoes['end_time'] = df_impressoes['end_time'].dt.strftime('%m-%d-%y')\n",
    "df_impressoes['end_time'] = pd.to_datetime(df_impressoes['end_time'])\n",
    "agraga = df_impressoes.resample(rule='D', on='end_time').agg({'value':'sum'}).reset_index()\n",
    "\n",
    "\n",
    "agraga['end_time'] = agraga['end_time'].dt.strftime('%d-%m-%y')\n",
    "agraga.rename({\"end_time\": \"x\", \"value\": \"y\"}, axis=1, inplace=True)\n",
    "dados_finais = agraga.to_dict(orient='records')\n",
    "\n",
    "display(dados_finais)"
   ]
  }
 ],
 "metadata": {
  "interpreter": {
   "hash": "086361cfe32899f3fd2bbd3df6f83b7735c25725591171184a9f3965a7c81e32"
  },
  "kernelspec": {
   "display_name": "Python 3.7.0 ('.env': venv)",
   "language": "python",
   "name": "python3"
  },
  "language_info": {
   "codemirror_mode": {
    "name": "ipython",
    "version": 3
   },
   "file_extension": ".py",
   "mimetype": "text/x-python",
   "name": "python",
   "nbconvert_exporter": "python",
   "pygments_lexer": "ipython3",
   "version": "3.7.0"
  },
  "orig_nbformat": 4
 },
 "nbformat": 4,
 "nbformat_minor": 2
}
