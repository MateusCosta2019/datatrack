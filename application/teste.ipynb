{
 "cells": [
  {
   "cell_type": "code",
   "execution_count": 7,
   "metadata": {},
   "outputs": [],
   "source": [
    "from modulos.conecta_analytics import get_service, get_results, get_first_profile_id\n",
    "import pandas as pd "
   ]
  },
  {
   "cell_type": "code",
   "execution_count": null,
   "metadata": {},
   "outputs": [],
   "source": [
    "def viewid():\n",
    "    scope = ['https://www.googleapis.com/auth/analytics.readonly']\n",
    "    service = get_service('analytics', 'v3', scope, 'client_secret_10241093559.json')\n",
    "    profile = get_first_profile_id(service)\n",
    "    dados = get_results(service, profile)\n",
    "    return dados\n",
    "\n",
    "if __name__ == '__main__':\n",
    "  viewid()"
   ]
  },
  {
   "cell_type": "code",
   "execution_count": null,
   "metadata": {},
   "outputs": [],
   "source": []
  },
  {
   "cell_type": "code",
   "execution_count": null,
   "metadata": {},
   "outputs": [],
   "source": []
  }
 ],
 "metadata": {
  "interpreter": {
   "hash": "fbaf8a2bf23ac711b66bbf886ae55723729c601760d019e37c2eb87c90c3088a"
  },
  "kernelspec": {
   "display_name": "Python 3.7.0 ('.env': venv)",
   "language": "python",
   "name": "python3"
  },
  "language_info": {
   "codemirror_mode": {
    "name": "ipython",
    "version": 3
   },
   "file_extension": ".py",
   "mimetype": "text/x-python",
   "name": "python",
   "nbconvert_exporter": "python",
   "pygments_lexer": "ipython3",
   "version": "3.7.0"
  },
  "orig_nbformat": 4
 },
 "nbformat": 4,
 "nbformat_minor": 2
}
